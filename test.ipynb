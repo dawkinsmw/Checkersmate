{
 "metadata": {
  "language_info": {
   "codemirror_mode": {
    "name": "ipython",
    "version": 3
   },
   "file_extension": ".py",
   "mimetype": "text/x-python",
   "name": "python",
   "nbconvert_exporter": "python",
   "pygments_lexer": "ipython3",
   "version": "3.9.1-final"
  },
  "orig_nbformat": 2,
  "kernelspec": {
   "name": "python391jvsc74a57bd0dc40efeafce1894b2f1f450b73e7840039500a63972ad2c4624d18be595c561f",
   "display_name": "Python 3.9.1 64-bit ('base': conda)"
  },
  "metadata": {
   "interpreter": {
    "hash": "dc40efeafce1894b2f1f450b73e7840039500a63972ad2c4624d18be595c561f"
   }
  }
 },
 "nbformat": 4,
 "nbformat_minor": 2,
 "cells": [
  {
   "cell_type": "code",
   "execution_count": 47,
   "metadata": {},
   "outputs": [],
   "source": [
    "import os\n",
    "import time\n",
    "os.chdir(\"/home/mdawkins/Projects\")"
   ]
  },
  {
   "cell_type": "code",
   "execution_count": 2,
   "metadata": {},
   "outputs": [],
   "source": [
    "from Checkersmate.Game import Game\n",
    "from Player import random_player "
   ]
  },
  {
   "cell_type": "code",
   "execution_count": 5,
   "metadata": {},
   "outputs": [],
   "source": [
    "# Utilities \n",
    "def row_diff(x,y):\n",
    "    return (y//4) - (x//4)\n"
   ]
  },
  {
   "cell_type": "code",
   "execution_count": 6,
   "metadata": {},
   "outputs": [],
   "source": [
    "# Simple moves\n",
    "def update_board_simple_move(game,i,j):\n",
    "    new_board = game.board.copy()\n",
    "    new_board[i] = 0\n",
    "    new_board[j] = game.board[i]\n",
    "    return new_board\n",
    "\n",
    "def potential_simple_move(game,i):\n",
    "        legal_simple_moves = []\n",
    "        base,left,right,back_left,back_right = i, i+3+i//4%2, i+4+i//4%2, i-4-(i//4+1)%2, i-3-(i//4+1)%2\n",
    "        if game.board[base] >= 1:\n",
    "            if (left <= 31):\n",
    "                if (row_diff(base,left)==1) & (game.board[left]==0):\n",
    "                    legal_simple_moves.append(update_board_simple_move(game,base,left))\n",
    "            if (right <= 31):\n",
    "                if (row_diff(base,right)==1) & (game.board[right]==0):\n",
    "                    legal_simple_moves.append(update_board_simple_move(game,base,right)) \n",
    "        if game.board[base] == 2:\n",
    "            if (back_left >= 0):\n",
    "                if (row_diff(base,back_left)==-1) & (game.board[back_left]==0):\n",
    "                    legal_simple_moves.append(update_board_simple_move(game,base,back_left))\n",
    "            if (back_right >= 0):\n",
    "                if (row_diff(base,back_right)==-1) & (game.board[back_right]==0):\n",
    "                    legal_simple_moves.append(update_board_simple_move(game,base,back_right)) \n",
    "        return legal_simple_moves\n",
    "\n",
    "def legal_simple_moves(game):\n",
    "    legal_simple_moves = []\n",
    "    for i in range(32):\n",
    "        legal_simple_moves.extend(potential_simple_move(game,i))\n",
    "    return legal_simple_moves"
   ]
  },
  {
   "cell_type": "code",
   "execution_count": 7,
   "metadata": {},
   "outputs": [],
   "source": [
    "# Jumps\n",
    "def update_jump(game,i,s,j):\n",
    "    new_board = game.board.copy()\n",
    "    new_board[i] = 0\n",
    "    new_board[s] = 0\n",
    "    new_board[j] = game.board[i]\n",
    "    return new_board\n",
    "\n",
    "def potential_jumps(game,i):\n",
    "    legal_jumps = []\n",
    "    base = i\n",
    "    left,right,back_left,back_right = i+7,i+9,i-9,i-7\n",
    "    left_skip,right_skip,back_left_skip,back_right_skip = i+3+i//4%2, i+4+i//4%2, i-4-(i//4+1)%2, i-3-(i//4+1)%2\n",
    "    for i in range(32):\n",
    "        if game.board[base] >= 1:\n",
    "            if (left <= 31):\n",
    "                if (row_diff(base,left)==2) & (game.board[left]==0) & (game.board[left_skip]<0):\n",
    "                    legal_jumps.append(update_jump(game,base,left_skip,left))\n",
    "            if (right <= 31):\n",
    "                if (row_diff(base,right)==2) & (game.board[right]==0) & (game.board[right_skip]<0):\n",
    "                    legal_jumps.append(update_jump(game,base,right_skip,right)) \n",
    "        if game.board[base] == 2:\n",
    "            if (back_left >= 0):\n",
    "                if (row_diff(base,back_left)==-2) & (game.board[back_left]==0) & (game.board[back_left_skip]<0):\n",
    "                    legal_jumps.append(update_jump(game,base,back_left_skip,back_left))\n",
    "            if (back_right >= 0):\n",
    "                if (row_diff(base,back_right)==-2) & (game.board[back_right]==0) & (game.board[back_right_skip]<0):\n",
    "                    legal_jumps.append(update_jump(game,base,back_right_skip,back_right)) \n",
    "        return legal_jumps\n",
    "\n",
    "def legal_jumps(game):\n",
    "    legal_jumps_moves = []\n",
    "    for i in range(32):\n",
    "        legal_jumps_moves.extend(potential_simple_move(game,i))\n",
    "    return legal_jumps_moves"
   ]
  },
  {
   "cell_type": "code",
   "execution_count": 8,
   "metadata": {},
   "outputs": [],
   "source": [
    "def legal_moves(game):\n",
    "    legal_moves = legal_jumps(game)\n",
    "    if len(legal_moves)==0:\n",
    "        legal_moves = legal_simple_moves(game)\n",
    "    return legal_moves\n"
   ]
  },
  {
   "cell_type": "code",
   "execution_count": 56,
   "metadata": {},
   "outputs": [],
   "source": [
    "state = Game(board=[1, 1, 1, 1, 1, 1, 1, 1, 0, 0, 0, 0, 0, 0, 0, 0, 0, 0, 0, 0, 0, 0, 0, 0, -1, -1, -1, -1, -1, -1, -1, -1])"
   ]
  },
  {
   "cell_type": "code",
   "execution_count": 57,
   "metadata": {},
   "outputs": [
    {
     "output_type": "stream",
     "name": "stdout",
     "text": [
      " ___________Checkersmate____________\n    red's turn \n  +---+---+---+---+---+---+---+---+\n8 |   | o |   | o |   | o |   | o |\n  |---+---+---+---+---+---+---+---|   \n7 | o |   | o |   | o |   | o |   |\n  |---+---+---+---+---+---+---+---|\n6 |   |   |   |   |   |   |   |   |\n  |---+---+---+---+---+---+---+---|   \n5 |   |   |   |   |   |   |   |   |\n  |---+---+---+---+---+---+---+---|\n4 |   |   |   |   |   |   |   |   |\n  |---+---+---+---+---+---+---+---|   \n3 |   |   |   |   |   |   |   |   |\n  |---+---+---+---+---+---+---+---|\n2 |   | x |   | x |   | x |   | x |\n  |---+---+---+---+---+---+---+---|\n1 | x |   | x |   | x |   | x |   |\n  +---+---+---+---+---+---+---+---+\n    A   B   C   D   E   F   G   H\n"
     ]
    }
   ],
   "source": [
    "print(state)"
   ]
  },
  {
   "cell_type": "code",
   "execution_count": 58,
   "metadata": {},
   "outputs": [
    {
     "output_type": "stream",
     "name": "stdout",
     "text": [
      "1\n",
      " ___________Checkersmate____________\n",
      "    red's turn \n",
      "  +---+---+---+---+---+---+---+---+\n",
      "8 |   | o |   | o |   | o |   | o |\n",
      "  |---+---+---+---+---+---+---+---|   \n",
      "7 | o |   | o |   | o |   | o |   |\n",
      "  |---+---+---+---+---+---+---+---|\n",
      "6 |   |   |   |   |   |   |   |   |\n",
      "  |---+---+---+---+---+---+---+---|   \n",
      "5 |   |   |   |   |   |   |   |   |\n",
      "  |---+---+---+---+---+---+---+---|\n",
      "4 |   |   |   |   |   |   |   |   |\n",
      "  |---+---+---+---+---+---+---+---|   \n",
      "3 |   |   | x |   |   |   |   |   |\n",
      "  |---+---+---+---+---+---+---+---|\n",
      "2 |   |   |   | x |   | x |   | x |\n",
      "  |---+---+---+---+---+---+---+---|\n",
      "1 | x |   | x |   | x |   | x |   |\n",
      "  +---+---+---+---+---+---+---+---+\n",
      "    A   B   C   D   E   F   G   H\n",
      "-1\n",
      "-1\n",
      " ___________Checkersmate____________\n",
      "    white's turn \n",
      "  +---+---+---+---+---+---+---+---+\n",
      "8 |   | x |   | x |   | x |   | x |\n",
      "  |---+---+---+---+---+---+---+---|   \n",
      "7 | x |   | x |   | x |   |   |   |\n",
      "  |---+---+---+---+---+---+---+---|\n",
      "6 |   |   |   |   |   | x |   |   |\n",
      "  |---+---+---+---+---+---+---+---|   \n",
      "5 |   |   |   |   |   |   |   |   |\n",
      "  |---+---+---+---+---+---+---+---|\n",
      "4 |   |   |   |   |   |   |   |   |\n",
      "  |---+---+---+---+---+---+---+---|   \n",
      "3 |   |   | o |   |   |   |   |   |\n",
      "  |---+---+---+---+---+---+---+---|\n",
      "2 |   | o |   |   |   | o |   | o |\n",
      "  |---+---+---+---+---+---+---+---|\n",
      "1 | o |   | o |   | o |   | o |   |\n",
      "  +---+---+---+---+---+---+---+---+\n",
      "    A   B   C   D   E   F   G   H\n",
      "1\n",
      "1\n",
      " ___________Checkersmate____________\n",
      "    red's turn \n",
      "  +---+---+---+---+---+---+---+---+\n",
      "8 |   | o |   | o |   | o |   | o |\n",
      "  |---+---+---+---+---+---+---+---|   \n",
      "7 | o |   | o |   |   |   | o |   |\n",
      "  |---+---+---+---+---+---+---+---|\n",
      "6 |   |   |   |   |   | o |   |   |\n",
      "  |---+---+---+---+---+---+---+---|   \n",
      "5 |   |   |   |   |   |   |   |   |\n",
      "  |---+---+---+---+---+---+---+---|\n",
      "4 |   |   |   |   |   |   |   |   |\n",
      "  |---+---+---+---+---+---+---+---|   \n",
      "3 |   |   | x |   |   |   | x |   |\n",
      "  |---+---+---+---+---+---+---+---|\n",
      "2 |   |   |   | x |   |   |   | x |\n",
      "  |---+---+---+---+---+---+---+---|\n",
      "1 | x |   | x |   | x |   | x |   |\n",
      "  +---+---+---+---+---+---+---+---+\n",
      "    A   B   C   D   E   F   G   H\n",
      "-1\n",
      "-1\n",
      " ___________Checkersmate____________\n",
      "    white's turn \n",
      "  +---+---+---+---+---+---+---+---+\n",
      "8 |   | x |   | x |   | x |   | x |\n",
      "  |---+---+---+---+---+---+---+---|   \n",
      "7 | x |   |   |   | x |   |   |   |\n",
      "  |---+---+---+---+---+---+---+---|\n",
      "6 |   | x |   |   |   | x |   |   |\n",
      "  |---+---+---+---+---+---+---+---|   \n",
      "5 |   |   |   |   |   |   |   |   |\n",
      "  |---+---+---+---+---+---+---+---|\n",
      "4 |   |   |   | o |   |   |   |   |\n",
      "  |---+---+---+---+---+---+---+---|   \n",
      "3 |   |   |   |   |   |   |   |   |\n",
      "  |---+---+---+---+---+---+---+---|\n",
      "2 |   | o |   |   |   | o |   | o |\n",
      "  |---+---+---+---+---+---+---+---|\n",
      "1 | o |   | o |   | o |   | o |   |\n",
      "  +---+---+---+---+---+---+---+---+\n",
      "    A   B   C   D   E   F   G   H\n",
      "1\n",
      "1\n",
      " ___________Checkersmate____________\n",
      "    red's turn \n",
      "  +---+---+---+---+---+---+---+---+\n",
      "8 |   | o |   | o |   | o |   | o |\n",
      "  |---+---+---+---+---+---+---+---|   \n",
      "7 | o |   | o |   |   |   | o |   |\n",
      "  |---+---+---+---+---+---+---+---|\n",
      "6 |   |   |   |   |   |   |   |   |\n",
      "  |---+---+---+---+---+---+---+---|   \n",
      "5 |   |   |   |   | o |   |   |   |\n",
      "  |---+---+---+---+---+---+---+---|\n",
      "4 |   | x |   |   |   |   |   |   |\n",
      "  |---+---+---+---+---+---+---+---|   \n",
      "3 |   |   |   |   |   |   | x |   |\n",
      "  |---+---+---+---+---+---+---+---|\n",
      "2 |   |   |   | x |   |   |   | x |\n",
      "  |---+---+---+---+---+---+---+---|\n",
      "1 | x |   | x |   | x |   | x |   |\n",
      "  +---+---+---+---+---+---+---+---+\n",
      "    A   B   C   D   E   F   G   H\n",
      "-1\n",
      "-1\n",
      " ___________Checkersmate____________\n",
      "    white's turn \n",
      "  +---+---+---+---+---+---+---+---+\n",
      "8 |   | x |   | x |   | x |   | x |\n",
      "  |---+---+---+---+---+---+---+---|   \n",
      "7 | x |   |   |   | x |   |   |   |\n",
      "  |---+---+---+---+---+---+---+---|\n",
      "6 |   | x |   |   |   |   |   |   |\n",
      "  |---+---+---+---+---+---+---+---|   \n",
      "5 |   |   |   |   |   |   | x |   |\n",
      "  |---+---+---+---+---+---+---+---|\n",
      "4 |   |   |   | o |   |   |   |   |\n",
      "  |---+---+---+---+---+---+---+---|   \n",
      "3 |   |   | o |   |   |   |   |   |\n",
      "  |---+---+---+---+---+---+---+---|\n",
      "2 |   |   |   |   |   | o |   | o |\n",
      "  |---+---+---+---+---+---+---+---|\n",
      "1 | o |   | o |   | o |   | o |   |\n",
      "  +---+---+---+---+---+---+---+---+\n",
      "    A   B   C   D   E   F   G   H\n",
      "1\n",
      "1\n",
      " ___________Checkersmate____________\n",
      "    red's turn \n",
      "  +---+---+---+---+---+---+---+---+\n",
      "8 |   | o |   | o |   | o |   | o |\n",
      "  |---+---+---+---+---+---+---+---|   \n",
      "7 | o |   | o |   |   |   |   |   |\n",
      "  |---+---+---+---+---+---+---+---|\n",
      "6 |   |   |   |   |   | o |   |   |\n",
      "  |---+---+---+---+---+---+---+---|   \n",
      "5 |   |   |   |   | o |   |   |   |\n",
      "  |---+---+---+---+---+---+---+---|\n",
      "4 |   | x |   |   |   |   |   |   |\n",
      "  |---+---+---+---+---+---+---+---|   \n",
      "3 |   |   |   |   |   |   | x |   |\n",
      "  |---+---+---+---+---+---+---+---|\n",
      "2 |   |   |   | x |   | x |   | x |\n",
      "  |---+---+---+---+---+---+---+---|\n",
      "1 | x |   | x |   | x |   |   |   |\n",
      "  +---+---+---+---+---+---+---+---+\n",
      "    A   B   C   D   E   F   G   H\n",
      "-1\n",
      "-1\n",
      " ___________Checkersmate____________\n",
      "    white's turn \n",
      "  +---+---+---+---+---+---+---+---+\n",
      "8 |   |   |   | x |   | x |   | x |\n",
      "  |---+---+---+---+---+---+---+---|   \n",
      "7 | x |   | x |   | x |   |   |   |\n",
      "  |---+---+---+---+---+---+---+---|\n",
      "6 |   | x |   |   |   |   |   |   |\n",
      "  |---+---+---+---+---+---+---+---|   \n",
      "5 |   |   |   |   |   |   | x |   |\n",
      "  |---+---+---+---+---+---+---+---|\n",
      "4 |   |   |   | o |   |   |   |   |\n",
      "  |---+---+---+---+---+---+---+---|   \n",
      "3 |   |   | o |   |   |   |   |   |\n",
      "  |---+---+---+---+---+---+---+---|\n",
      "2 |   |   |   | o |   | o |   | o |\n",
      "  |---+---+---+---+---+---+---+---|\n",
      "1 | o |   | o |   |   |   | o |   |\n",
      "  +---+---+---+---+---+---+---+---+\n",
      "    A   B   C   D   E   F   G   H\n",
      "1\n",
      "1\n",
      " ___________Checkersmate____________\n",
      "    red's turn \n",
      "  +---+---+---+---+---+---+---+---+\n",
      "8 |   | o |   |   |   | o |   | o |\n",
      "  |---+---+---+---+---+---+---+---|   \n",
      "7 | o |   | o |   | o |   |   |   |\n",
      "  |---+---+---+---+---+---+---+---|\n",
      "6 |   |   |   |   |   | o |   |   |\n",
      "  |---+---+---+---+---+---+---+---|   \n",
      "5 |   |   |   |   | o |   |   |   |\n",
      "  |---+---+---+---+---+---+---+---|\n",
      "4 |   | x |   |   |   | x |   |   |\n",
      "  |---+---+---+---+---+---+---+---|   \n",
      "3 |   |   |   |   |   |   |   |   |\n",
      "  |---+---+---+---+---+---+---+---|\n",
      "2 |   |   |   | x |   | x |   | x |\n",
      "  |---+---+---+---+---+---+---+---|\n",
      "1 | x |   | x |   | x |   |   |   |\n",
      "  +---+---+---+---+---+---+---+---+\n",
      "    A   B   C   D   E   F   G   H\n",
      "-1\n",
      "-1\n",
      " ___________Checkersmate____________\n",
      "    white's turn \n",
      "  +---+---+---+---+---+---+---+---+\n",
      "8 |   |   |   | x |   | x |   | x |\n",
      "  |---+---+---+---+---+---+---+---|   \n",
      "7 | x |   | x |   | x |   |   |   |\n",
      "  |---+---+---+---+---+---+---+---|\n",
      "6 |   |   |   |   |   |   |   |   |\n",
      "  |---+---+---+---+---+---+---+---|   \n",
      "5 |   |   | x |   | o |   | x |   |\n",
      "  |---+---+---+---+---+---+---+---|\n",
      "4 |   |   |   |   |   |   |   |   |\n",
      "  |---+---+---+---+---+---+---+---|   \n",
      "3 |   |   | o |   |   |   |   |   |\n",
      "  |---+---+---+---+---+---+---+---|\n",
      "2 |   |   |   | o |   | o |   | o |\n",
      "  |---+---+---+---+---+---+---+---|\n",
      "1 | o |   | o |   |   |   | o |   |\n",
      "  +---+---+---+---+---+---+---+---+\n",
      "    A   B   C   D   E   F   G   H\n",
      "1\n"
     ]
    }
   ],
   "source": [
    "for i in range(10):\n",
    "    state = Game(random_player.select_move(legal_moves(state)),state.turn)\n",
    "    print(state.turn)\n",
    "    print(state)\n",
    "    \n",
    "    state.change_turn()\n",
    "    print(state.turn)\n",
    "    time.sleep(2)\n",
    "    "
   ]
  },
  {
   "cell_type": "code",
   "execution_count": 203,
   "metadata": {},
   "outputs": [
    {
     "output_type": "execute_result",
     "data": {
      "text/plain": [
       "3"
      ]
     },
     "metadata": {},
     "execution_count": 203
    }
   ],
   "source": [
    "from random import randint\n",
    "randint(2,5)"
   ]
  },
  {
   "cell_type": "code",
   "execution_count": 184,
   "metadata": {},
   "outputs": [
    {
     "output_type": "stream",
     "name": "stdout",
     "text": [
      " ___________Checkersmate____________\n    red's turn \n  +---+---+---+---+---+---+---+---+\n8 |   | o |   | o |   | o |   | o |\n  |---+---+---+---+---+---+---+---|   \n7 | o |   | o |   | o |   | o |   |\n  |---+---+---+---+---+---+---+---|\n6 |   |   |   |   |   |   |   |   |\n  |---+---+---+---+---+---+---+---|   \n5 |   |   |   |   |   |   |   |   |\n  |---+---+---+---+---+---+---+---|\n4 |   |   |   |   |   |   |   |   |\n  |---+---+---+---+---+---+---+---|   \n3 | x |   |   |   |   |   |   |   |\n  |---+---+---+---+---+---+---+---|\n2 |   |   |   | x |   | x |   | x |\n  |---+---+---+---+---+---+---+---|\n1 | x |   | x |   | x |   | x |   |\n  +---+---+---+---+---+---+---+---+\n    A   B   C   D   E   F   G   H\n ___________Checkersmate____________\n    red's turn \n  +---+---+---+---+---+---+---+---+\n8 |   | o |   | o |   | o |   | o |\n  |---+---+---+---+---+---+---+---|   \n7 | o |   | o |   | o |   | o |   |\n  |---+---+---+---+---+---+---+---|\n6 |   |   |   |   |   |   |   |   |\n  |---+---+---+---+---+---+---+---|   \n5 |   |   |   |   |   |   |   |   |\n  |---+---+---+---+---+---+---+---|\n4 |   |   |   |   |   |   |   |   |\n  |---+---+---+---+---+---+---+---|   \n3 |   |   | x |   |   |   |   |   |\n  |---+---+---+---+---+---+---+---|\n2 |   |   |   | x |   | x |   | x |\n  |---+---+---+---+---+---+---+---|\n1 | x |   | x |   | x |   | x |   |\n  +---+---+---+---+---+---+---+---+\n    A   B   C   D   E   F   G   H\n ___________Checkersmate____________\n    red's turn \n  +---+---+---+---+---+---+---+---+\n8 |   | o |   | o |   | o |   | o |\n  |---+---+---+---+---+---+---+---|   \n7 | o |   | o |   | o |   | o |   |\n  |---+---+---+---+---+---+---+---|\n6 |   |   |   |   |   |   |   |   |\n  |---+---+---+---+---+---+---+---|   \n5 |   |   |   |   |   |   |   |   |\n  |---+---+---+---+---+---+---+---|\n4 |   |   |   |   |   |   |   |   |\n  |---+---+---+---+---+---+---+---|   \n3 |   |   | x |   |   |   |   |   |\n  |---+---+---+---+---+---+---+---|\n2 |   | x |   |   |   | x |   | x |\n  |---+---+---+---+---+---+---+---|\n1 | x |   | x |   | x |   | x |   |\n  +---+---+---+---+---+---+---+---+\n    A   B   C   D   E   F   G   H\n ___________Checkersmate____________\n    red's turn \n  +---+---+---+---+---+---+---+---+\n8 |   | o |   | o |   | o |   | o |\n  |---+---+---+---+---+---+---+---|   \n7 | o |   | o |   | o |   | o |   |\n  |---+---+---+---+---+---+---+---|\n6 |   |   |   |   |   |   |   |   |\n  |---+---+---+---+---+---+---+---|   \n5 |   |   |   |   |   |   |   |   |\n  |---+---+---+---+---+---+---+---|\n4 |   |   |   |   |   |   |   |   |\n  |---+---+---+---+---+---+---+---|   \n3 |   |   |   |   | x |   |   |   |\n  |---+---+---+---+---+---+---+---|\n2 |   | x |   |   |   | x |   | x |\n  |---+---+---+---+---+---+---+---|\n1 | x |   | x |   | x |   | x |   |\n  +---+---+---+---+---+---+---+---+\n    A   B   C   D   E   F   G   H\n ___________Checkersmate____________\n    red's turn \n  +---+---+---+---+---+---+---+---+\n8 |   | o |   | o |   | o |   | o |\n  |---+---+---+---+---+---+---+---|   \n7 | o |   | o |   | o |   | o |   |\n  |---+---+---+---+---+---+---+---|\n6 |   |   |   |   |   |   |   |   |\n  |---+---+---+---+---+---+---+---|   \n5 |   |   |   |   |   |   |   |   |\n  |---+---+---+---+---+---+---+---|\n4 |   |   |   |   |   |   |   |   |\n  |---+---+---+---+---+---+---+---|   \n3 |   |   |   |   | x |   |   |   |\n  |---+---+---+---+---+---+---+---|\n2 |   | x |   | x |   |   |   | x |\n  |---+---+---+---+---+---+---+---|\n1 | x |   | x |   | x |   | x |   |\n  +---+---+---+---+---+---+---+---+\n    A   B   C   D   E   F   G   H\n ___________Checkersmate____________\n    red's turn \n  +---+---+---+---+---+---+---+---+\n8 |   | o |   | o |   | o |   | o |\n  |---+---+---+---+---+---+---+---|   \n7 | o |   | o |   | o |   | o |   |\n  |---+---+---+---+---+---+---+---|\n6 |   |   |   |   |   |   |   |   |\n  |---+---+---+---+---+---+---+---|   \n5 |   |   |   |   |   |   |   |   |\n  |---+---+---+---+---+---+---+---|\n4 |   |   |   |   |   |   |   |   |\n  |---+---+---+---+---+---+---+---|   \n3 |   |   |   |   |   |   | x |   |\n  |---+---+---+---+---+---+---+---|\n2 |   | x |   | x |   |   |   | x |\n  |---+---+---+---+---+---+---+---|\n1 | x |   | x |   | x |   | x |   |\n  +---+---+---+---+---+---+---+---+\n    A   B   C   D   E   F   G   H\n ___________Checkersmate____________\n    red's turn \n  +---+---+---+---+---+---+---+---+\n8 |   | o |   | o |   | o |   | o |\n  |---+---+---+---+---+---+---+---|   \n7 | o |   | o |   | o |   | o |   |\n  |---+---+---+---+---+---+---+---|\n6 |   |   |   |   |   |   |   |   |\n  |---+---+---+---+---+---+---+---|   \n5 |   |   |   |   |   |   |   |   |\n  |---+---+---+---+---+---+---+---|\n4 |   |   |   |   |   |   |   |   |\n  |---+---+---+---+---+---+---+---|   \n3 |   |   |   |   |   |   | x |   |\n  |---+---+---+---+---+---+---+---|\n2 |   | x |   | x |   | x |   |   |\n  |---+---+---+---+---+---+---+---|\n1 | x |   | x |   | x |   | x |   |\n  +---+---+---+---+---+---+---+---+\n    A   B   C   D   E   F   G   H\n"
     ]
    }
   ],
   "source": [
    "for board in legal_moves(state):\n",
    "    print(Game(board))"
   ]
  },
  {
   "cell_type": "code",
   "execution_count": 23,
   "metadata": {},
   "outputs": [
    {
     "output_type": "execute_result",
     "data": {
      "text/plain": [
       "[-3, -2, -1]"
      ]
     },
     "metadata": {},
     "execution_count": 23
    }
   ],
   "source": [
    "[-x for x in [1,2,3][::-1]]\n"
   ]
  },
  {
   "cell_type": "code",
   "execution_count": null,
   "metadata": {},
   "outputs": [],
   "source": []
  }
 ]
}